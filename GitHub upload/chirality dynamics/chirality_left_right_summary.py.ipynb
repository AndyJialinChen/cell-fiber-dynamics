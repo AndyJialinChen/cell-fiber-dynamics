{
 "cells": [
  {
   "cell_type": "code",
   "execution_count": 1,
   "id": "1fae82fa-5880-44ff-9a38-19d2b72c0345",
   "metadata": {},
   "outputs": [
    {
     "name": "stdout",
     "output_type": "stream",
     "text": [
      "\n",
      "Clockwise  (CW)\n",
      "─────────────────────────\n",
      " rows inspected : 7560\n",
      "side\n",
      "r    6348\n",
      "l    1212\n",
      " majority       : Right (6348/7560)\n",
      "\n",
      "Counter-clockwise (CCW)\n",
      "─────────────────────────\n",
      " rows inspected : 7560\n",
      "side\n",
      "r    1192\n",
      "l    6368\n",
      " majority       : Left (6368/7560)\n"
     ]
    }
   ],
   "source": [
    "#!/usr/bin/env python3\n",
    "# ================================================================\n",
    "#  chirality_left_right_summary.py\n",
    "#  --------------------------------\n",
    "#  Reads CW and CCW workbooks, keeps match_type (1)/(2), assigns\n",
    "#  each row  →  (r) if δ★ > δ₀  else (l), and prints counts.\n",
    "# ================================================================\n",
    "\n",
    "import numpy as np, pandas as pd\n",
    "from math import pi\n",
    "\n",
    "MATCH_TYPES = {\"(1)\", \"(2)\"}\n",
    "CW_FILE  = \"../ode_steady_analysis.xlsx\"\n",
    "CCW_FILE = \"../ode_steady_analysis_ccw.xlsx\"\n",
    "\n",
    "def label_side(df):\n",
    "    return (\"r\" if df[\"steady_value\"] > df[\"delta0\"] else \"l\")\n",
    "\n",
    "def summarise(path, tag):\n",
    "    df = pd.read_excel(path)\n",
    "    df = df[df[\"match_type\"].isin(MATCH_TYPES)].copy()\n",
    "    df[\"side\"] = df.apply(label_side, axis=1)\n",
    "    counts = df[\"side\"].value_counts().reindex([\"r\",\"l\"], fill_value=0)\n",
    "    total  = counts.sum()\n",
    "    maj    = \"Right\" if counts[\"r\"] > counts[\"l\"] else \"Left\"\n",
    "    print(f\"\\n{tag}\")\n",
    "    print(\"─────────────────────────\")\n",
    "    print(f\" rows inspected : {total}\")\n",
    "    print(counts.to_string())\n",
    "    print(f\" majority       : {maj} \"\n",
    "          f\"({max(counts['r'],counts['l'])}/{total})\")\n",
    "\n",
    "def main():\n",
    "    summarise(CW_FILE,  \"Clockwise  (CW)\")\n",
    "    summarise(CCW_FILE, \"Counter-clockwise (CCW)\")\n",
    "\n",
    "if __name__ == \"__main__\":\n",
    "    main()\n"
   ]
  },
  {
   "cell_type": "code",
   "execution_count": null,
   "id": "02033213-e94f-49db-9dca-bf25c61c98c2",
   "metadata": {},
   "outputs": [],
   "source": []
  }
 ],
 "metadata": {
  "kernelspec": {
   "display_name": "Python (Scratch myenv)",
   "language": "python",
   "name": "scratch-myenv"
  },
  "language_info": {
   "codemirror_mode": {
    "name": "ipython",
    "version": 3
   },
   "file_extension": ".py",
   "mimetype": "text/x-python",
   "name": "python",
   "nbconvert_exporter": "python",
   "pygments_lexer": "ipython3",
   "version": "3.11.7"
  }
 },
 "nbformat": 4,
 "nbformat_minor": 5
}
